{
 "cells": [
  {
   "cell_type": "code",
   "execution_count": 1,
   "metadata": {},
   "outputs": [],
   "source": [
    "import numpy as np\n",
    "import scipy as sp\n",
    "import math as m\n",
    "from prettytable import PrettyTable\n",
    "import library_assignment_2 as lib\n",
    "mat_list = lib.read_matrices('input_matrices.txt',delimiter=',')         #reading matrices from file"
   ]
  },
  {
   "cell_type": "markdown",
   "metadata": {},
   "source": [
    "Question 1"
   ]
  },
  {
   "cell_type": "code",
   "execution_count": 2,
   "metadata": {},
   "outputs": [
    {
     "name": "stdout",
     "output_type": "stream",
     "text": [
      "A is symmetric\n"
     ]
    }
   ],
   "source": [
    "#Define A and B\n",
    "\n",
    "A=4*np.eye(6)\n",
    "A= A+np.diagflat([-1,-1,0,-1,-1],1)+np.diagflat([-1,-1,0,-1,-1],-1)+np.diagflat([-1,-1,-1],3)+np.diagflat([-1,-1,-1],-3)\n",
    "A= A.tolist()\n",
    "B = np.array([[2],[1],[2],[2],[1],[2]]).tolist()\n",
    "\n",
    "#check if they are symmetric\n",
    "q1_flag = lib.symcheck(A)\n",
    "if q1_flag == True:\n",
    "    print(\"A is symmetric\")\n",
    "else:\n",
    "    raise ValueError(\"A is not symmetric\")"
   ]
  },
  {
   "cell_type": "code",
   "execution_count": 3,
   "metadata": {},
   "outputs": [
    {
     "name": "stdout",
     "output_type": "stream",
     "text": [
      "+----------+----------+--------------+\n",
      "| Variable | Cholesky | Gauss Seidel |\n",
      "+----------+----------+--------------+\n",
      "|   x_1    | 1.000000 |  0.9999998   |\n",
      "|   x_2    | 1.000000 |  0.9999998   |\n",
      "|   x_3    | 1.000000 |  0.9999999   |\n",
      "|   x_4    | 1.000000 |  0.9999999   |\n",
      "|   x_5    | 1.000000 |  0.9999999   |\n",
      "|   x_6    | 1.000000 |  0.9999999   |\n",
      "+----------+----------+--------------+\n",
      "Number of iterations for Gauss Seidel Method :  16\n"
     ]
    }
   ],
   "source": [
    "\n",
    "#Cholesky Decomposition\n",
    "\n",
    "A1 = np.copy(A).tolist()    \n",
    "B1 = np.copy(B).tolist()   \n",
    "chol_ans = lib.Cholesky_solve(A1,B)\n",
    "\n",
    "\n",
    "#Gauss Seidel\n",
    "\n",
    "tolerence_q1 = 1e-6\n",
    "GS_ans,steps = lib.gauss_seidel(A,B,tolerence_q1) \n",
    "\n",
    "\n",
    "#print the results\n",
    "p=PrettyTable()\n",
    "p.field_names = [\"Variable\", \"Cholesky\", \"Gauss Seidel\"]\n",
    "\n",
    "for i in range(len(chol_ans)):\n",
    "    p.add_row([f\"x_{i+1}\",\"{:.6f}\".format(chol_ans[i][0]),\"{:.7f}\".format(GS_ans[i][0])])\n",
    "print(p)\n",
    "print(\"Number of iterations for Gauss Seidel Method : \",steps)\n"
   ]
  },
  {
   "cell_type": "markdown",
   "metadata": {},
   "source": [
    "Question 2"
   ]
  },
  {
   "cell_type": "code",
   "execution_count": 4,
   "metadata": {},
   "outputs": [
    {
     "name": "stdout",
     "output_type": "stream",
     "text": [
      "Diagonally dominant metrix check:  False\n",
      "+----------+--------------+------------------+\n",
      "| Variable | Gauss Jordan | LU Decomposition |\n",
      "+----------+--------------+------------------+\n",
      "|   x_1    |    2.6746    |      2.6746      |\n",
      "|   x_2    |    3.7119    |      3.7119      |\n",
      "|   x_3    |   -0.0533    |     -0.0533      |\n",
      "|   x_4    |   -0.0744    |     -0.0744      |\n",
      "|   x_5    |    5.2591    |      5.2591      |\n",
      "+----------+--------------+------------------+\n"
     ]
    }
   ],
   "source": [
    "#define the matrices\n",
    "\n",
    "A=[\n",
    "    [0,4,2,0,1],\n",
    "    [4,0,4,10,1],\n",
    "    [2,5,1,3,13],\n",
    "    [11,3,0,1,2],\n",
    "    [3,2,7,1,0]\n",
    "]\n",
    "B=[[20],[15],[92],[51],[15]]\n",
    "print(\"Diagonally dominant metrix check: \",lib.diagonal_dom_check(A))\n",
    "A_new=lib.make_DD(A,B)\n",
    "#Solving using the Gauss-Jordan Method\n",
    "\n",
    "GJ_ans = lib.gauss_jordan_solve(np.copy(A).tolist(),np.copy(B).tolist())\n",
    "\n",
    "#LU Decomposition\n",
    "\n",
    "LU_ans = lib.LU_solve(np.copy(A).tolist(),np.copy(B).tolist())\n",
    "\n",
    "p=PrettyTable()\n",
    "p.field_names = [\"Variable\", \"Gauss Jordan\", \"LU Decomposition\"]\n",
    "for i in range(len(GJ_ans)):\n",
    "    p.add_row([f\"x_{i+1}\",\"{:.4f}\".format(GJ_ans[i][0]),\"{:.4f}\".format(LU_ans[i][0])])\n",
    "   \n",
    "print(p)\n"
   ]
  },
  {
   "cell_type": "markdown",
   "metadata": {},
   "source": [
    "Question 3"
   ]
  },
  {
   "cell_type": "code",
   "execution_count": 5,
   "metadata": {},
   "outputs": [
    {
     "name": "stdout",
     "output_type": "stream",
     "text": [
      "Number of Iterations for Conjugate Gradient Method is 6 which equals length of A\n",
      "Solution for the given system of linear equations are:\n",
      "\n",
      "+----------+----------+\n",
      "| Variable | Solution |\n",
      "+----------+----------+\n",
      "|   x_1    | -0.7245  |\n",
      "|   x_2    |  0.2177  |\n",
      "|   x_3    |  0.9666  |\n",
      "|   x_4    | -0.6857  |\n",
      "|   x_5    | -0.0382  |\n",
      "|   x_6    |  0.6488  |\n",
      "+----------+----------+\n",
      "To find the inverse of A using conjugate gradient, we need to set the matrix B as an Identity matrix,\n",
      "the guess used here is a matrix with all the elements 1 \n"
     ]
    }
   ],
   "source": [
    "A = np.copy(mat_list[4]).tolist()\n",
    "B = np.copy(mat_list[5]).tolist()\n",
    "\n",
    "# The guess is taken to be the zero vector\n",
    "ycg,_step_ = lib.conjugate_gradient_solve(A,B,[[0],[0],[0],[0],[0],[0]],1e-6)\n",
    "print(\"Number of Iterations for Conjugate Gradient Method is\",_step_,\"which equals length of A\")\n",
    "\n",
    "p=PrettyTable()\n",
    "p.field_names = [\"Variable\", \"Solution\"]\n",
    "for i in range(len(ycg)):\n",
    "    p.add_row([f\"x_{i+1}\",\"{:.4f}\".format(ycg[i][0])])\n",
    "\n",
    "print(\"Solution for the given system of linear equations are:\\n\")\n",
    "print(p)\n",
    "print(\"To find the inverse of A using conjugate gradient, we need to set the matrix B as an Identity matrix,\")\n",
    "print(\"the guess used here is a matrix with all the elements 1 \")"
   ]
  },
  {
   "cell_type": "code",
   "execution_count": 6,
   "metadata": {},
   "outputs": [
    {
     "name": "stdout",
     "output_type": "stream",
     "text": [
      "The matrix A :\n",
      "\n",
      "[[ 2. -1.  0.  0.  0.  0.]\n",
      " [-1.  4. -1.  0. -1.  0.]\n",
      " [ 0. -1.  4.  0.  0. -1.]\n",
      " [ 0.  0.  0.  2. -1.  0.]\n",
      " [ 0. -1.  0. -1.  4. -1.]\n",
      " [ 0.  0. -1.  0. -1.  4.]]\n",
      "\n",
      "\n",
      "The Number of Iterations for Conjugate Gradient Method is 6 which is same as the length of the A\n",
      "A inverse:\n",
      "\n",
      "[[0.5868 0.1735 0.0501 0.0286 0.0572 0.0268]\n",
      " [0.1735 0.347  0.1002 0.0572 0.1145 0.0537]\n",
      " [0.0501 0.1002 0.297  0.0268 0.0537 0.0877]\n",
      " [0.0286 0.0572 0.0268 0.5868 0.1735 0.0501]\n",
      " [0.0572 0.1145 0.0537 0.1735 0.347  0.1002]\n",
      " [0.0268 0.0537 0.0877 0.0501 0.1002 0.297 ]]\n",
      "\n",
      "\n",
      "For the verification of the result the product of A and A_inv is shown below:\n",
      "\n",
      "[[ 1.  0. -0. -0.  0. -0.]\n",
      " [-0.  1.  0. -0. -0. -0.]\n",
      " [-0. -0.  1.  0.  0.  0.]\n",
      " [-0.  0. -0.  1.  0. -0.]\n",
      " [-0. -0. -0. -0.  1.  0.]\n",
      " [-0.  0. -0.  0.  0.  1.]]\n"
     ]
    }
   ],
   "source": [
    "#inverse\n",
    "B = np.eye(6).tolist()\n",
    "guess = np.ones((6,1)).tolist()\n",
    "\n",
    "print(\"The matrix A :\\n\")\n",
    "print(np.array(A))\n",
    "print(\"\\n\")\n",
    "\n",
    "A_inv,_step_ = lib.conjugate_gradient_solve(A,B,guess,1e-6)\n",
    "\n",
    "print(\"The Number of Iterations for Conjugate Gradient Method is\",_step_,\"which is same as the length of the A\")\n",
    "print(\"A inverse:\\n\")\n",
    "print(np.round(A_inv,4))\n",
    "print(\"\\n\")\n",
    "\n",
    "print(\"For the verification of the result the product of A and A_inv is shown below:\\n\")\n",
    "print(np.round(np.matmul(A,A_inv)))\n",
    "\n",
    "\n"
   ]
  },
  {
   "cell_type": "markdown",
   "metadata": {},
   "source": [
    "Question 4"
   ]
  },
  {
   "cell_type": "code",
   "execution_count": 7,
   "metadata": {},
   "outputs": [],
   "source": [
    "#defining the matrices\n",
    "def Kronecker_delta(i, j):\n",
    "    if i == j:\n",
    "        return 1\n",
    "    else:\n",
    "        return 0\n",
    "#defining the matrix A\n",
    "def A_ij(i, j):\n",
    "    m = 0.2 \n",
    "    num = 0.5 * (Kronecker_delta(i + 1, j) + Kronecker_delta(i - 1, j) - 2 * Kronecker_delta(i, j)) + m*m *Kronecker_delta(i, j)\n",
    "    return num\n",
    "\n",
    "\n",
    "\n",
    "def matrix_multiply_fn_with_matrix(A_ij, B):\n",
    "    rows_A = len(B)\n",
    "    cols_A = len(B[0])\n",
    "\n",
    "    result = []\n",
    "    for i in range(rows_A):\n",
    "        row = []\n",
    "        for j in range(cols_A):\n",
    "            element = sum(A_ij(i, k) * B[k][j] for k in range(len(B)))\n",
    "            row.append(element)\n",
    "        result.append(row)\n",
    "\n",
    "    return result\n",
    "\n",
    "\n",
    "def conjugate_gradient_solve(A: callable,B: list,guess: list,T: float,n: int):\n",
    "    x0=guess\n",
    "    r0 = np.add(B, -1 * np.array(matrix_multiply_fn_with_matrix(A, x0)))\n",
    "    d0 = np.copy(r0)\n",
    "    i=1\n",
    "    reslist = [np.linalg.norm(r0)]\n",
    "    while True:\n",
    "        alpha1 = np.matmul(np.transpose(r0), r0) / np.matmul(np.transpose(d0), np.array(matrix_multiply_fn_with_matrix(A, d0)))\n",
    "        x1 = np.add(x0, alpha1[0][0]*d0)\n",
    "        r1 = np.add(r0, -1 * alpha1[0][0] * np.array(matrix_multiply_fn_with_matrix(A, d0)))\n",
    "        reslist.append(np.linalg.norm(r1))\n",
    "        if np.linalg.norm(r1) < T and i<=n:\n",
    "            return x1.tolist(),reslist,i\n",
    "        elif i>n:\n",
    "            print(\"Maybe the matrix A dosent satisfy the conditions for the Conjugate Gradient Method\")\n",
    "            return None\n",
    "        else: \n",
    "            beta1 = np.matmul(np.transpose(r1), r1) / np.matmul(np.transpose(r0), r0)\n",
    "            d1 = np.add(r1, beta1[0][0] * d0)\n",
    "            x0 = x1\n",
    "            del x1\n",
    "            r0 = r1\n",
    "            del r1\n",
    "            d0 = d1\n",
    "            del d1\n",
    "            i+=1\n",
    "\n"
   ]
  },
  {
   "cell_type": "code",
   "execution_count": 8,
   "metadata": {},
   "outputs": [],
   "source": [
    "\n",
    "n=50\n",
    "\n",
    "inv,res,iter = conjugate_gradient_solve(A_ij,np.eye(50).tolist(),[[1] for i in range(50)],1e-6,50)"
   ]
  },
  {
   "cell_type": "code",
   "execution_count": 9,
   "metadata": {},
   "outputs": [
    {
     "name": "stdout",
     "output_type": "stream",
     "text": [
      "Inverse of the Matrix A:\n",
      "\n",
      "[[-2.11578492 -2.06230706 -1.84384462 ... -1.5936755  -1.13901763\n",
      "  -0.59323835]\n",
      " [-2.06230706 -3.95962955 -3.54018167 ... -3.05985695 -2.18691384\n",
      "  -1.13901763]\n",
      " [-1.84384462 -3.54018167 -4.95330419 ... -4.28124985 -3.05985695\n",
      "  -1.5936755 ]\n",
      " ...\n",
      " [-1.5936755  -3.05985695 -4.28124985 ... -4.95330419 -3.54018167\n",
      "  -1.84384462]\n",
      " [-1.13901763 -2.18691384 -3.05985695 ... -3.54018167 -3.95962955\n",
      "  -2.06230706]\n",
      " [-0.59323835 -1.13901763 -1.5936755  ... -1.84384462 -2.06230706\n",
      "  -2.11578492]]\n",
      "\n",
      "\n",
      "The Number of Iterations for Conjugate Gradient Method is 50 which is same as the length of the A\n",
      "Product of A and A_inv:\n",
      "\n",
      "[[ 1.  0. -0. ...  0.  0.  0.]\n",
      " [ 0.  1.  0. ...  0.  0.  0.]\n",
      " [-0.  0.  1. ...  0.  0.  0.]\n",
      " ...\n",
      " [ 0.  0.  0. ...  1.  0. -0.]\n",
      " [ 0.  0.  0. ...  0.  1.  0.]\n",
      " [ 0.  0.  0. ... -0.  0.  1.]]\n",
      "\n",
      "\n",
      "The inverse of the Matrix A is saved in the file A_inv.txt\n"
     ]
    }
   ],
   "source": [
    "\n",
    "print(\"Inverse of the Matrix A:\\n\")\n",
    "print(np.array(inv))\n",
    "print(\"\\n\")\n",
    "print(\"The Number of Iterations for Conjugate Gradient Method is\",iter,\"which is same as the length of the A\")\n",
    "\n",
    "print(\"Product of A and A_inv:\\n\")\n",
    "print(np.round(matrix_multiply_fn_with_matrix(A_ij,inv)))\n",
    "\n",
    "# The Matrix is too large to be printed, so its saved in a file\n",
    "np.savetxt('A_inv.txt',np.round(np.array(inv),6),delimiter='\\t',fmt='%1.6f')\n",
    "\n",
    "print(\"\\n\")\n",
    "print(\"The inverse of the Matrix A is saved in the file A_inv.txt\")"
   ]
  }
 ],
 "metadata": {
  "kernelspec": {
   "display_name": "Python 3",
   "language": "python",
   "name": "python3"
  },
  "language_info": {
   "codemirror_mode": {
    "name": "ipython",
    "version": 3
   },
   "file_extension": ".py",
   "mimetype": "text/x-python",
   "name": "python",
   "nbconvert_exporter": "python",
   "pygments_lexer": "ipython3",
   "version": "3.10.12"
  }
 },
 "nbformat": 4,
 "nbformat_minor": 2
}
