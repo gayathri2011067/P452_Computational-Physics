{
 "cells": [
  {
   "cell_type": "code",
   "execution_count": 1,
   "metadata": {},
   "outputs": [],
   "source": [
    "import numpy as np\n",
    "import scipy as sp\n",
    "import math as m\n",
    "from prettytable import PrettyTable\n",
    "import library_assignment_2 as lib\n"
   ]
  },
  {
   "cell_type": "markdown",
   "metadata": {},
   "source": [
    "Question 1"
   ]
  },
  {
   "cell_type": "code",
   "execution_count": 2,
   "metadata": {},
   "outputs": [
    {
     "name": "stdout",
     "output_type": "stream",
     "text": [
      "A is symmetric\n"
     ]
    }
   ],
   "source": [
    "#Define A and B\n",
    "\n",
    "A=4*np.eye(6)\n",
    "A= A+np.diagflat([-1,-1,0,-1,-1],1)+np.diagflat([-1,-1,0,-1,-1],-1)+np.diagflat([-1,-1,-1],3)+np.diagflat([-1,-1,-1],-3)\n",
    "A= A.tolist()\n",
    "B = np.array([[2],[1],[2],[2],[1],[2]]).tolist()\n",
    "\n",
    "#check if they are symmetric\n",
    "q1_flag = lib.symcheck(A)\n",
    "if q1_flag == True:\n",
    "    print(\"A is symmetric\")\n",
    "else:\n",
    "    raise ValueError(\"A is not symmetric\")"
   ]
  },
  {
   "cell_type": "code",
   "execution_count": 3,
   "metadata": {},
   "outputs": [
    {
     "name": "stdout",
     "output_type": "stream",
     "text": [
      "+----------+----------+--------------+\n",
      "| Variable | Cholesky | Gauss Seidel |\n",
      "+----------+----------+--------------+\n",
      "|   x_1    | 1.000000 |  0.9999998   |\n",
      "|   x_2    | 1.000000 |  0.9999998   |\n",
      "|   x_3    | 1.000000 |  0.9999999   |\n",
      "|   x_4    | 1.000000 |  0.9999999   |\n",
      "|   x_5    | 1.000000 |  0.9999999   |\n",
      "|   x_6    | 1.000000 |  0.9999999   |\n",
      "+----------+----------+--------------+\n",
      "Number of iterations for Gauss Seidel Method :  16\n"
     ]
    }
   ],
   "source": [
    "\n",
    "#Cholesky Decomposition\n",
    "\n",
    "A1 = np.copy(A).tolist()    \n",
    "B1 = np.copy(B).tolist()   \n",
    "chol_ans = lib.Cholesky_solve(A1,B)\n",
    "\n",
    "\n",
    "#Gauss Seidel\n",
    "\n",
    "tolerence_q1 = 1e-6\n",
    "GS_ans,steps = lib.gauss_seidel(A,B,tolerence_q1) \n",
    "\n",
    "\n",
    "#print the results\n",
    "p=PrettyTable()\n",
    "p.field_names = [\"Variable\", \"Cholesky\", \"Gauss Seidel\"]\n",
    "\n",
    "for i in range(len(chol_ans)):\n",
    "    p.add_row([f\"x_{i+1}\",\"{:.6f}\".format(chol_ans[i][0]),\"{:.7f}\".format(GS_ans[i][0])])\n",
    "print(p)\n",
    "print(\"Number of iterations for Gauss Seidel Method : \",steps)\n"
   ]
  },
  {
   "cell_type": "markdown",
   "metadata": {},
   "source": [
    "Question 2"
   ]
  },
  {
   "cell_type": "code",
   "execution_count": 4,
   "metadata": {},
   "outputs": [
    {
     "name": "stdout",
     "output_type": "stream",
     "text": [
      "Diagonally dominant metrix check:  False\n",
      "+----------+--------------+------------------+\n",
      "| Variable | Gauss Jordan | LU Decomposition |\n",
      "+----------+--------------+------------------+\n",
      "|   x_1    |    2.6746    |      2.6746      |\n",
      "|   x_2    |    3.7119    |      3.7119      |\n",
      "|   x_3    |   -0.0533    |     -0.0533      |\n",
      "|   x_4    |   -0.0744    |     -0.0744      |\n",
      "|   x_5    |    5.2591    |      5.2591      |\n",
      "+----------+--------------+------------------+\n"
     ]
    }
   ],
   "source": [
    "#define the matrices\n",
    "\n",
    "A=[\n",
    "    [0,4,2,0,1],\n",
    "    [4,0,4,10,1],\n",
    "    [2,5,1,3,13],\n",
    "    [11,3,0,1,2],\n",
    "    [3,2,7,1,0]\n",
    "]\n",
    "B=[[20],[15],[92],[51],[15]]\n",
    "print(\"Diagonally dominant metrix check: \",lib.diagonal_dom_check(A))\n",
    "A_new=lib.make_DD(A,B)\n",
    "#Solving using the Gauss-Jordan Method\n",
    "\n",
    "GJ_ans = lib.gauss_jordan_solve(np.copy(A).tolist(),np.copy(B).tolist())\n",
    "\n",
    "#LU Decomposition\n",
    "\n",
    "LU_ans = lib.LU_solve(np.copy(A).tolist(),np.copy(B).tolist())\n",
    "\n",
    "p=PrettyTable()\n",
    "p.field_names = [\"Variable\", \"Gauss Jordan\", \"LU Decomposition\"]\n",
    "for i in range(len(GJ_ans)):\n",
    "    p.add_row([f\"x_{i+1}\",\"{:.4f}\".format(GJ_ans[i][0]),\"{:.4f}\".format(LU_ans[i][0])])\n",
    "   \n",
    "print(p)\n"
   ]
  },
  {
   "cell_type": "markdown",
   "metadata": {},
   "source": [
    "Question 3"
   ]
  },
  {
   "cell_type": "code",
   "execution_count": 5,
   "metadata": {},
   "outputs": [
    {
     "name": "stdout",
     "output_type": "stream",
     "text": [
      "[[-1.5       ]\n",
      " [-0.66666667]\n",
      " [ 0.66666667]\n",
      " [-1.66666667]\n",
      " [-1.        ]\n",
      " [ 0.33333333]]\n",
      "The Number of Iterations for Conjugate Gradient Method is:  6\n",
      "[[-1.        ]\n",
      " [-0.83333333]\n",
      " [ 3.        ]\n",
      " [-0.33333333]\n",
      " [-2.        ]\n",
      " [ 1.66666667]]\n"
     ]
    }
   ],
   "source": [
    "import numpy as np\n",
    "A = [\n",
    "    [2,-3,0,0,0,0],\n",
    "    [-1,4,-1,0,-1,0],\n",
    "    [0,-1,4,0,0,-1],   \n",
    "    [0,0,0,2,-3,0],\n",
    "    [0,-1,0,-1,4,-1],\n",
    "    [0,0,-1,0,-1,4]\n",
    "    ]\n",
    "\n",
    "B = [\n",
    "    [-5/3],\n",
    "    [2/3],\n",
    "    [3],\n",
    "    [-4/3],\n",
    "    [-1/3],\n",
    "    [5/3]\n",
    "    ]\n",
    "\n",
    "A1 = np.copy(A)\n",
    "\n",
    "A = ((np.array(A)+np.array(A).T)/2).tolist()  \n",
    "\n",
    "y_s,step = lib.conjugate_gradient_solve(A,B,[[0],[0],[0],[0],[0],[0]],1e-4)\n",
    "print(np.array(y_s))\n",
    "print(\"The Number of Iterations for Conjugate Gradient Method is: \",step)\n",
    "\n",
    "\n",
    "print(np.matmul(A1,y_s))\n"
   ]
  },
  {
   "cell_type": "code",
   "execution_count": 6,
   "metadata": {},
   "outputs": [],
   "source": [
    "def conjugate_gradient(A,b,x,tol=0.000001,itermax=54):\n",
    "  r=b-A@x\n",
    "  d=r\n",
    "  i=0\n",
    "  residue=np.sqrt(r@r)\n",
    "  while i<=itermax and residue >= tol:\n",
    "    alpha=(r@r)/(d@(A@d))\n",
    "    x=x+alpha*d\n",
    "    r1=r-alpha*(A@d)\n",
    "    beta=(r1@r1)/(r@r)\n",
    "    d=r1+beta*d\n",
    "    r=r1\n",
    "    residue=np.sqrt(r@r)\n",
    "    i+=1\n",
    "  return x\n",
    "def conjugate_gradient_inverse(A):\n",
    "  l=[]\n",
    "  I=np.identity(A.shape[1])\n",
    "  x0=0.5*np.ones(A.shape[1])\n",
    "  for j in range(A.shape[1]):\n",
    "    x=conjugate_gradient(A,I[:,j],x0)\n",
    "    l.append(x)\n",
    "  result=np.vstack(l)\n",
    "  return result.T\n",
    "M=np.array([[2,-3,0,0,0,0],[-1,4,-1,0,-1,0],[0,-1,4,0,0,-1],[0,0,0,2,-3,0],[0,-1,0,-1,4,-1],[0,0,-1,0,-1,4]])\n",
    "b=np.array([-(5/3),(2/3),3,(-4/3),(-1/3),(5/3)])\n",
    "x0=np.ones(6)"
   ]
  },
  {
   "cell_type": "code",
   "execution_count": 7,
   "metadata": {},
   "outputs": [
    {
     "name": "stdout",
     "output_type": "stream",
     "text": [
      "[-0.3447479   0.32688228  0.99761917 -0.68164938 -0.00712292  0.66452815]\n"
     ]
    }
   ],
   "source": [
    "print(conjugate_gradient(M,b,x0))"
   ]
  },
  {
   "cell_type": "code",
   "execution_count": 8,
   "metadata": {},
   "outputs": [
    {
     "name": "stdout",
     "output_type": "stream",
     "text": [
      "[[0.91297646 0.93578768 0.25615252 0.21230963 0.50834423 0.16956203]\n",
      " [0.28746764 0.59692854 0.17256342 0.13813613 0.3030059  0.11216624]\n",
      " [0.08350403 0.15499575 0.31979197 0.04920808 0.10121089 0.10776105]\n",
      " [0.21230963 0.50834423 0.16956203 0.91297646 0.93578768 0.25615252]\n",
      " [0.13813613 0.3030059  0.11216624 0.28746764 0.59692854 0.17256342]\n",
      " [0.04920808 0.10121089 0.10776105 0.08350403 0.15499575 0.31979197]]\n"
     ]
    }
   ],
   "source": [
    "Q=conjugate_gradient_inverse(M)\n",
    "print(Q)"
   ]
  },
  {
   "cell_type": "markdown",
   "metadata": {},
   "source": [
    "Question 4"
   ]
  },
  {
   "cell_type": "code",
   "execution_count": null,
   "metadata": {},
   "outputs": [],
   "source": []
  }
 ],
 "metadata": {
  "kernelspec": {
   "display_name": "Python 3",
   "language": "python",
   "name": "python3"
  },
  "language_info": {
   "codemirror_mode": {
    "name": "ipython",
    "version": 3
   },
   "file_extension": ".py",
   "mimetype": "text/x-python",
   "name": "python",
   "nbconvert_exporter": "python",
   "pygments_lexer": "ipython3",
   "version": "3.10.12"
  }
 },
 "nbformat": 4,
 "nbformat_minor": 2
}
